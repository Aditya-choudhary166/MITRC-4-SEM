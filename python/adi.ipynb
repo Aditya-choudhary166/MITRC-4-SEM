{
 "cells": [
  {
   "cell_type": "code",
   "execution_count": null,
   "id": "72d9d439",
   "metadata": {},
   "outputs": [],
   "source": [
    "5+5\n",
    "print(5+5)"
   ]
  },
  {
   "cell_type": "code",
   "execution_count": null,
   "id": "06ae2f8a",
   "metadata": {},
   "outputs": [],
   "source": [
    "import numpy  as np"
   ]
  },
  {
   "cell_type": "code",
   "execution_count": null,
   "id": "3c1933d6",
   "metadata": {},
   "outputs": [],
   "source": []
  }
 ],
 "metadata": {
  "language_info": {
   "name": "python"
  }
 },
 "nbformat": 4,
 "nbformat_minor": 5
}
