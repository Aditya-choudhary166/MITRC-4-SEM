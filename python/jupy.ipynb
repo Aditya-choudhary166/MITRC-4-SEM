{
 "cells": [
  {
   "cell_type": "code",
   "execution_count": 154,
   "id": "35f4c95e",
   "metadata": {},
   "outputs": [
    {
     "data": {
      "text/plain": [
       "array([1, 2, 3, 4])"
      ]
     },
     "execution_count": 154,
     "metadata": {},
     "output_type": "execute_result"
    }
   ],
   "source": [
    "import numpy as np\n",
    "#creating arrays\n",
    "lst=[1,2,3,4]\n",
    "arr1=np.array(lst)\n",
    "#print(arr1)\n",
    "arr1"
   ]
  },
  {
   "cell_type": "code",
   "execution_count": 155,
   "id": "7c2e0614",
   "metadata": {},
   "outputs": [
    {
     "data": {
      "text/plain": [
       "array([ 1,  2, 34])"
      ]
     },
     "execution_count": 155,
     "metadata": {},
     "output_type": "execute_result"
    }
   ],
   "source": [
    "import numpy as np\n",
    "#creating arrays\n",
    "##direct pass list\n",
    "\n",
    "arr1=np.array([1,2,34,])\n",
    "arr1"
   ]
  },
  {
   "cell_type": "code",
   "execution_count": 156,
   "id": "1d1e22a3",
   "metadata": {},
   "outputs": [
    {
     "data": {
      "text/plain": [
       "array([1, 2, 3, 4, 5, 6, 7, 8, 9])"
      ]
     },
     "execution_count": 156,
     "metadata": {},
     "output_type": "execute_result"
    }
   ],
   "source": [
    "##arange\n",
    "arr2=np.arange(1,10)\n",
    "arr2"
   ]
  },
  {
   "cell_type": "code",
   "execution_count": 157,
   "id": "429237c5",
   "metadata": {},
   "outputs": [
    {
     "name": "stdout",
     "output_type": "stream",
     "text": [
      "Array a: [1 2 3]\n",
      "Array b: [4 5 6]\n",
      "Sum: [5 7 9]\n",
      "Difference: [-3 -3 -3]\n",
      "Product: [ 4 10 18]\n",
      "Division: [0.25 0.4  0.5 ]\n",
      "Mean of a: 2.0\n",
      "Max of b: 6\n",
      "Dot Product: 32\n"
     ]
    }
   ],
   "source": [
    "import numpy as np\n",
    "\n",
    "# Create NumPy arrays\n",
    "a = np.array([1, 2, 3])\n",
    "b = np.array([4, 5, 6])\n",
    "\n",
    "# Arithmetic operations\n",
    "sum_result = a + b\n",
    "diff_result = a - b\n",
    "product_result = a * b\n",
    "division_result = a / b\n",
    "\n",
    "# Array functions\n",
    "mean_a = np.mean(a)\n",
    "max_b = np.max(b)\n",
    "dot_product = np.dot(a, b)\n",
    "\n",
    "# Print results\n",
    "print(\"Array a:\", a)\n",
    "print(\"Array b:\", b)\n",
    "print(\"Sum:\", sum_result)\n",
    "print(\"Difference:\", diff_result)\n",
    "print(\"Product:\", product_result)\n",
    "print(\"Division:\", division_result)\n",
    "print(\"Mean of a:\", mean_a)\n",
    "print(\"Max of b:\", max_b)\n",
    "print(\"Dot Product:\", dot_product)\n"
   ]
  },
  {
   "cell_type": "code",
   "execution_count": 158,
   "id": "9be0f541",
   "metadata": {},
   "outputs": [
    {
     "data": {
      "text/plain": [
       "array([1., 1., 1., 1., 1., 1.])"
      ]
     },
     "execution_count": 158,
     "metadata": {},
     "output_type": "execute_result"
    }
   ],
   "source": [
    "##ones\n",
    "arr3=np.ones(6)\n",
    "arr3"
   ]
  },
  {
   "cell_type": "code",
   "execution_count": 159,
   "id": "d54c8e34",
   "metadata": {},
   "outputs": [
    {
     "data": {
      "text/plain": [
       "array([0., 0., 0., 0., 0., 0.])"
      ]
     },
     "execution_count": 159,
     "metadata": {},
     "output_type": "execute_result"
    }
   ],
   "source": [
    "arr3=np.zeros(6)\n",
    "arr3"
   ]
  },
  {
   "cell_type": "code",
   "execution_count": 160,
   "id": "a813729f",
   "metadata": {},
   "outputs": [
    {
     "data": {
      "text/plain": [
       "array([ 1.        ,  1.47368421,  1.94736842,  2.42105263,  2.89473684,\n",
       "        3.36842105,  3.84210526,  4.31578947,  4.78947368,  5.26315789,\n",
       "        5.73684211,  6.21052632,  6.68421053,  7.15789474,  7.63157895,\n",
       "        8.10526316,  8.57894737,  9.05263158,  9.52631579, 10.        ])"
      ]
     },
     "execution_count": 160,
     "metadata": {},
     "output_type": "execute_result"
    }
   ],
   "source": [
    "##linspace-->decimal value dega\n",
    "arr4=np.linspace(1,10,20)\n",
    "arr4"
   ]
  },
  {
   "cell_type": "markdown",
   "id": "18346a6c",
   "metadata": {},
   "source": []
  },
  {
   "cell_type": "code",
   "execution_count": 161,
   "id": "573e13b4",
   "metadata": {},
   "outputs": [
    {
     "data": {
      "text/plain": [
       "array([[1., 1., 1., 1.],\n",
       "       [1., 1., 1., 1.],\n",
       "       [1., 1., 1., 1.],\n",
       "       [1., 1., 1., 1.],\n",
       "       [1., 1., 1., 1.],\n",
       "       [1., 1., 1., 1.],\n",
       "       [1., 1., 1., 1.]])"
      ]
     },
     "execution_count": 161,
     "metadata": {},
     "output_type": "execute_result"
    }
   ],
   "source": [
    "##2d arrays-->mxn\n",
    "arr3=np.ones((7,4))\n",
    "arr3"
   ]
  },
  {
   "cell_type": "code",
   "execution_count": 162,
   "id": "8a1d77ec",
   "metadata": {},
   "outputs": [
    {
     "data": {
      "text/plain": [
       "array([[ 1,  2,  3,  4,  5,  6],\n",
       "       [ 7,  8,  9, 10, 11, 12],\n",
       "       [13, 14, 15, 16, 17, 18],\n",
       "       [19, 20, 21, 22, 23, 24],\n",
       "       [25, 26, 27, 28, 29, 30]])"
      ]
     },
     "execution_count": 162,
     "metadata": {},
     "output_type": "execute_result"
    }
   ],
   "source": [
    "##reshape\n",
    "arr5=np.arange(1,31).reshape(5,6)\n",
    "arr5"
   ]
  },
  {
   "cell_type": "code",
   "execution_count": 163,
   "id": "cdcfbcba",
   "metadata": {},
   "outputs": [
    {
     "data": {
      "text/plain": [
       "array([[ 4, 11,  8],\n",
       "       [ 7,  1,  8],\n",
       "       [ 1,  9, 10]], dtype=int32)"
      ]
     },
     "execution_count": 163,
     "metadata": {},
     "output_type": "execute_result"
    }
   ],
   "source": [
    "##random()-->random no.generate kr dega it takes three arguments 1,20 tk 9 no.chaiye\n",
    "arr6=np.random.randint(1,12,9).reshape(3,3)\n",
    "arr6\n"
   ]
  },
  {
   "cell_type": "code",
   "execution_count": 164,
   "id": "ac29c5bd",
   "metadata": {},
   "outputs": [
    {
     "data": {
      "text/plain": [
       "array([[2, 8, 7, 9, 3, 9],\n",
       "       [5, 1, 7, 8, 1, 2]], dtype=int32)"
      ]
     },
     "execution_count": 164,
     "metadata": {},
     "output_type": "execute_result"
    }
   ],
   "source": [
    "arr6=np.random.randint(1,10,(2,6))\n",
    "arr6"
   ]
  },
  {
   "cell_type": "code",
   "execution_count": 165,
   "id": "37306b14",
   "metadata": {},
   "outputs": [
    {
     "data": {
      "text/plain": [
       "array([[ 0,  1,  2,  3,  4,  5],\n",
       "       [ 6,  7,  8,  9, 10, 11],\n",
       "       [12, 13, 14, 15, 16, 17],\n",
       "       [18, 19, 20, 21, 22, 23],\n",
       "       [24, 25, 26, 27, 28, 29],\n",
       "       [30, 31, 32, 33, 34, 35],\n",
       "       [36, 37, 38, 39, 40, 41],\n",
       "       [42, 43, 44, 45, 46, 47],\n",
       "       [48, 49, 50, 51, 52, 53],\n",
       "       [54, 55, 56, 57, 58, 59]])"
      ]
     },
     "execution_count": 165,
     "metadata": {},
     "output_type": "execute_result"
    }
   ],
   "source": [
    "arr7=np.arange(0,60).reshape((10,6))\n",
    "arr7"
   ]
  },
  {
   "cell_type": "code",
   "execution_count": 166,
   "id": "9099051a",
   "metadata": {},
   "outputs": [
    {
     "data": {
      "text/plain": [
       "(10, 6)"
      ]
     },
     "execution_count": 166,
     "metadata": {},
     "output_type": "execute_result"
    }
   ],
   "source": [
    "arr7.shape##for rows and column"
   ]
  },
  {
   "cell_type": "code",
   "execution_count": 167,
   "id": "342df6aa",
   "metadata": {},
   "outputs": [
    {
     "data": {
      "text/plain": [
       "60"
      ]
     },
     "execution_count": 167,
     "metadata": {},
     "output_type": "execute_result"
    }
   ],
   "source": [
    "arr7.shape#return no.of rows and columns\n",
    "arr7.dtype#return datatype\n",
    "arr7.ndim#1d hai ya 2d\n",
    "arr7.size#return size how many elements are there\n"
   ]
  },
  {
   "cell_type": "code",
   "execution_count": 168,
   "id": "d9f9941a",
   "metadata": {},
   "outputs": [
    {
     "data": {
      "text/plain": [
       "array([ 0,  1,  2,  3,  4,  5,  6,  7,  8,  9, 10, 11, 12, 13, 14, 15, 16,\n",
       "       17, 18, 19, 20, 21, 22, 23, 24, 25, 26, 27, 28, 29, 30, 31, 32, 33,\n",
       "       34, 35, 36, 37, 38, 39, 40, 41, 42, 43, 44, 45, 46, 47, 48, 49, 50,\n",
       "       51, 52, 53, 54, 55, 56, 57, 58, 59])"
      ]
     },
     "execution_count": 168,
     "metadata": {},
     "output_type": "execute_result"
    }
   ],
   "source": [
    "arr7.flatten() #higher matrix ko lower matrix mai issme 2d ko one d mao kr diya\n",
    "arr7.ravel()#higher matrix ko lower matrix mai"
   ]
  },
  {
   "cell_type": "code",
   "execution_count": 169,
   "id": "7231dc0e",
   "metadata": {},
   "outputs": [
    {
     "data": {
      "text/plain": [
       "(6, 10)"
      ]
     },
     "execution_count": 169,
     "metadata": {},
     "output_type": "execute_result"
    }
   ],
   "source": [
    "arr8=arr7.T\n",
    "arr8\n",
    "arr8.shape"
   ]
  },
  {
   "cell_type": "code",
   "execution_count": 170,
   "id": "fa0af579",
   "metadata": {},
   "outputs": [
    {
     "data": {
      "text/plain": [
       "array([0, 1, 2, 3, 4, 5, 6, 7, 8, 9])"
      ]
     },
     "execution_count": 170,
     "metadata": {},
     "output_type": "execute_result"
    }
   ],
   "source": [
    "#accesing and silicing in arrsys\n",
    "\n",
    "##1d array --simple list\n",
    "arr8=np.arange(10)\n",
    "arr8"
   ]
  },
  {
   "cell_type": "code",
   "execution_count": 171,
   "id": "46c6aee2",
   "metadata": {},
   "outputs": [
    {
     "data": {
      "text/plain": [
       "np.int64(6)"
      ]
     },
     "execution_count": 171,
     "metadata": {},
     "output_type": "execute_result"
    }
   ],
   "source": [
    "arr8[6]"
   ]
  },
  {
   "cell_type": "code",
   "execution_count": 172,
   "id": "9f032dfb",
   "metadata": {},
   "outputs": [
    {
     "data": {
      "text/plain": [
       "array([1, 2, 3, 4])"
      ]
     },
     "execution_count": 172,
     "metadata": {},
     "output_type": "execute_result"
    }
   ],
   "source": [
    "arr8[1:5]"
   ]
  },
  {
   "cell_type": "code",
   "execution_count": 173,
   "id": "b20a28c8",
   "metadata": {},
   "outputs": [
    {
     "data": {
      "text/plain": [
       "array([  0,   1,   2,   3,   4,   5, 600,   7,   8,   9])"
      ]
     },
     "execution_count": 173,
     "metadata": {},
     "output_type": "execute_result"
    }
   ],
   "source": [
    "arr8[6]=600\n",
    "arr8"
   ]
  },
  {
   "cell_type": "code",
   "execution_count": 174,
   "id": "3c93d614",
   "metadata": {},
   "outputs": [
    {
     "data": {
      "text/plain": [
       "array([[ 0,  1,  2,  3,  4,  5],\n",
       "       [ 6,  7,  8,  9, 10, 11],\n",
       "       [12, 13, 14, 15, 16, 17],\n",
       "       [18, 19, 20, 21, 22, 23],\n",
       "       [24, 25, 26, 27, 28, 29],\n",
       "       [30, 31, 32, 33, 34, 35],\n",
       "       [36, 37, 38, 39, 40, 41],\n",
       "       [42, 43, 44, 45, 46, 47],\n",
       "       [48, 49, 50, 51, 52, 53],\n",
       "       [54, 55, 56, 57, 58, 59]])"
      ]
     },
     "execution_count": 174,
     "metadata": {},
     "output_type": "execute_result"
    }
   ],
   "source": [
    "##2d array--[rows start:rows end skip,columns start:stop:skip]\n",
    "arr7=np.arange(0,60).reshape((10,6))\n",
    "arr7\n",
    "\n",
    "#arr7[0:6] #0 to 5 rows acces\n",
    "\n",
    "#arr7[0:6,0:2]\n",
    "\n"
   ]
  },
  {
   "cell_type": "code",
   "execution_count": 175,
   "id": "969664b9",
   "metadata": {},
   "outputs": [
    {
     "data": {
      "text/plain": [
       "array([[ 0,  1],\n",
       "       [ 6,  7],\n",
       "       [12, 13],\n",
       "       [18, 19],\n",
       "       [24, 25],\n",
       "       [30, 31]])"
      ]
     },
     "execution_count": 175,
     "metadata": {},
     "output_type": "execute_result"
    }
   ],
   "source": [
    "arr7[0:6,0:2]"
   ]
  },
  {
   "cell_type": "code",
   "execution_count": 176,
   "id": "6a38479f",
   "metadata": {},
   "outputs": [
    {
     "name": "stdout",
     "output_type": "stream",
     "text": [
      "[('TVS Star City Plus Dual Tone 110cc',  35000., 'Ahmedabad', 17654., 'First Owner',  3., 110., 'TVS')\n",
      " ('Royal Enfield Classic 350cc', 119900., 'Delhi', 11000., 'First Owner',  4., 350., 'Royal Enfield')\n",
      " ('Triumph Daytona 675R', 600000., 'Delhi',   110., 'First Owner',  8., 675., 'Triumph')\n",
      " ...\n",
      " ('Bajaj Avenger Street 220',  60000., 'Delhi', 20373., 'First Owner',  6., 220., 'Bajaj')\n",
      " ('Hero Super Splendor 125cc',  15600., 'Jaipur', 84186., 'First Owner', 16., 125., 'Hero')\n",
      " ('Bajaj Pulsar 150cc',  22000., 'Pune', 60857., 'First Owner', 13., 150., 'Bajaj')]\n",
      "[ 35000. 119900. 600000. ...  60000.  15600.  22000.]\n"
     ]
    }
   ],
   "source": [
    "import numpy as np\n",
    "\n",
    "# NumPy se structured data read karna (Pandas se easy hota hai)\n",
    "data = np.genfromtxt('Used_Bikes.csv', delimiter=',', dtype=None, encoding='utf-8', names=True)\n",
    "\n",
    "# Print karna\n",
    "print(data)\n",
    "\n",
    "# Kisi column ko access karna (e.g. price)\n",
    "print(data['price'])"
   ]
  },
  {
   "cell_type": "code",
   "execution_count": 177,
   "id": "a00f889e",
   "metadata": {},
   "outputs": [
    {
     "data": {
      "text/plain": [
       "array([[ 0,  1,  2,  3,  4,  5],\n",
       "       [12, 13, 14, 15, 16, 17],\n",
       "       [24, 25, 26, 27, 28, 29]])"
      ]
     },
     "execution_count": 177,
     "metadata": {},
     "output_type": "execute_result"
    }
   ],
   "source": [
    "arr7[0:6:2]"
   ]
  },
  {
   "cell_type": "code",
   "execution_count": 178,
   "id": "dc1a3d7f",
   "metadata": {},
   "outputs": [
    {
     "data": {
      "text/plain": [
       "np.int64(2)"
      ]
     },
     "execution_count": 178,
     "metadata": {},
     "output_type": "execute_result"
    }
   ],
   "source": [
    "arr7[0][2] #acceas the particular elements in 2d array"
   ]
  },
  {
   "cell_type": "code",
   "execution_count": 179,
   "id": "da395469",
   "metadata": {},
   "outputs": [
    {
     "data": {
      "text/plain": [
       "array([[54, 55, 56, 57, 58, 59]])"
      ]
     },
     "execution_count": 179,
     "metadata": {},
     "output_type": "execute_result"
    }
   ],
   "source": [
    "arr7[-1::]"
   ]
  },
  {
   "cell_type": "code",
   "execution_count": 180,
   "id": "a91f1bf0",
   "metadata": {},
   "outputs": [
    {
     "data": {
      "text/plain": [
       "array([[54, 55, 56, 57, 58, 59],\n",
       "       [48, 49, 50, 51, 52, 53],\n",
       "       [42, 43, 44, 45, 46, 47],\n",
       "       [36, 37, 38, 39, 40, 41],\n",
       "       [30, 31, 32, 33, 34, 35],\n",
       "       [24, 25, 26, 27, 28, 29],\n",
       "       [18, 19, 20, 21, 22, 23],\n",
       "       [12, 13, 14, 15, 16, 17],\n",
       "       [ 6,  7,  8,  9, 10, 11],\n",
       "       [ 0,  1,  2,  3,  4,  5]])"
      ]
     },
     "execution_count": 180,
     "metadata": {},
     "output_type": "execute_result"
    }
   ],
   "source": [
    "arr7[-1::-1] #puri ulti"
   ]
  },
  {
   "cell_type": "code",
   "execution_count": 181,
   "id": "4af6e10a",
   "metadata": {},
   "outputs": [
    {
     "data": {
      "text/plain": [
       "array([[[6, 6, 9, 5, 1],\n",
       "        [8, 5, 6, 1, 6],\n",
       "        [6, 3, 8, 8, 1]],\n",
       "\n",
       "       [[3, 6, 5, 2, 5],\n",
       "        [9, 9, 4, 8, 8],\n",
       "        [5, 1, 9, 4, 5]]], dtype=int32)"
      ]
     },
     "execution_count": 181,
     "metadata": {},
     "output_type": "execute_result"
    }
   ],
   "source": [
    "##creating a 3d array\n",
    "arr=np.random.randint(1,10,(2,3,5)) #2 tables/parts le liye \n",
    "arr"
   ]
  },
  {
   "cell_type": "code",
   "execution_count": 182,
   "id": "de731182",
   "metadata": {},
   "outputs": [
    {
     "data": {
      "text/plain": [
       "array([[[ 1,  2],\n",
       "        [ 3,  4]],\n",
       "\n",
       "       [[ 5,  6],\n",
       "        [ 7,  8]],\n",
       "\n",
       "       [[ 9, 10],\n",
       "        [11, 12]],\n",
       "\n",
       "       [[13, 14],\n",
       "        [15, 16]],\n",
       "\n",
       "       [[17, 18],\n",
       "        [19, 20]]])"
      ]
     },
     "execution_count": 182,
     "metadata": {},
     "output_type": "execute_result"
    }
   ],
   "source": [
    "arr=np.arange(1,21).reshape((5,2,2))\n",
    "arr"
   ]
  },
  {
   "cell_type": "code",
   "execution_count": 183,
   "id": "41de8cce",
   "metadata": {},
   "outputs": [
    {
     "data": {
      "text/plain": [
       "array([[[1, 2],\n",
       "        [3, 4]],\n",
       "\n",
       "       [[5, 6],\n",
       "        [7, 8]]])"
      ]
     },
     "execution_count": 183,
     "metadata": {},
     "output_type": "execute_result"
    }
   ],
   "source": [
    "##3d array-->[table start:end:skip,row start:end:skip,columns start:end:skip]\n",
    "arr[0:2,0:6,0:3] #2 tables and "
   ]
  },
  {
   "cell_type": "code",
   "execution_count": 184,
   "id": "0ddc325c",
   "metadata": {},
   "outputs": [
    {
     "data": {
      "text/plain": [
       "array([[[5, 5, 4, 2, 8],\n",
       "        [2, 6, 4, 4, 4],\n",
       "        [7, 4, 9, 6, 9]],\n",
       "\n",
       "       [[8, 1, 3, 8, 9],\n",
       "        [9, 2, 9, 6, 4],\n",
       "        [1, 7, 4, 6, 4]]], dtype=int32)"
      ]
     },
     "execution_count": 184,
     "metadata": {},
     "output_type": "execute_result"
    }
   ],
   "source": [
    "arr=np.random.randint(1,10,(2,3,5)) #2 tables/parts le liye \n",
    "arr"
   ]
  },
  {
   "cell_type": "code",
   "execution_count": 185,
   "id": "69070d65",
   "metadata": {},
   "outputs": [
    {
     "data": {
      "text/plain": [
       "array([5, 1], dtype=int32)"
      ]
     },
     "execution_count": 185,
     "metadata": {},
     "output_type": "execute_result"
    }
   ],
   "source": [
    "arr[0:,0,1]"
   ]
  },
  {
   "cell_type": "code",
   "execution_count": 186,
   "id": "e65d8591",
   "metadata": {},
   "outputs": [
    {
     "name": "stdout",
     "output_type": "stream",
     "text": [
      "                                  bike_name     price       city  kms_driven  \\\n",
      "0        TVS Star City Plus Dual Tone 110cc   35000.0  Ahmedabad     17654.0   \n",
      "1               Royal Enfield Classic 350cc  119900.0      Delhi     11000.0   \n",
      "2                      Triumph Daytona 675R  600000.0      Delhi       110.0   \n",
      "3                      TVS Apache RTR 180cc   65000.0  Bangalore     16329.0   \n",
      "4      Yamaha FZ S V 2.0 150cc-Ltd. Edition   80000.0  Bangalore     10000.0   \n",
      "...                                     ...       ...        ...         ...   \n",
      "32643                Hero Passion Pro 100cc   39000.0      Delhi     22000.0   \n",
      "32644                  TVS Apache RTR 180cc   30000.0     Karnal      6639.0   \n",
      "32645              Bajaj Avenger Street 220   60000.0      Delhi     20373.0   \n",
      "32646             Hero Super Splendor 125cc   15600.0     Jaipur     84186.0   \n",
      "32647                    Bajaj Pulsar 150cc   22000.0       Pune     60857.0   \n",
      "\n",
      "             owner   age  power          brand  \n",
      "0      First Owner   3.0  110.0            TVS  \n",
      "1      First Owner   4.0  350.0  Royal Enfield  \n",
      "2      First Owner   8.0  675.0        Triumph  \n",
      "3      First Owner   4.0  180.0            TVS  \n",
      "4      First Owner   3.0  150.0         Yamaha  \n",
      "...            ...   ...    ...            ...  \n",
      "32643  First Owner   4.0  100.0           Hero  \n",
      "32644  First Owner   9.0  180.0            TVS  \n",
      "32645  First Owner   6.0  220.0          Bajaj  \n",
      "32646  First Owner  16.0  125.0           Hero  \n",
      "32647  First Owner  13.0  150.0          Bajaj  \n",
      "\n",
      "[32648 rows x 8 columns]\n"
     ]
    }
   ],
   "source": [
    "import pandas as pd\n",
    "\n",
    "# Load CSV file\n",
    "df = pd.read_csv('Used_Bikes.csv')\n",
    "\n",
    "# Display the data in tabular form\n",
    "print(df)\n"
   ]
  },
  {
   "cell_type": "code",
   "execution_count": 187,
   "id": "9fdbec80",
   "metadata": {},
   "outputs": [],
   "source": [
    "##pandas--->\n",
    "\n",
    "##data manipulation -->data clean data insertion,updation;\n",
    "##pandas is used to manipulation and analysis\n",
    "##l pandas is used to manage large dataset;\n",
    "import pandas as pd\n"
   ]
  },
  {
   "cell_type": "code",
   "execution_count": 188,
   "id": "d29b853d",
   "metadata": {},
   "outputs": [
    {
     "name": "stdout",
     "output_type": "stream",
     "text": [
      "                                  bike_name     price       city  kms_driven  \\\n",
      "0        TVS Star City Plus Dual Tone 110cc   35000.0  Ahmedabad     17654.0   \n",
      "1               Royal Enfield Classic 350cc  119900.0      Delhi     11000.0   \n",
      "2                      Triumph Daytona 675R  600000.0      Delhi       110.0   \n",
      "3                      TVS Apache RTR 180cc   65000.0  Bangalore     16329.0   \n",
      "4      Yamaha FZ S V 2.0 150cc-Ltd. Edition   80000.0  Bangalore     10000.0   \n",
      "...                                     ...       ...        ...         ...   \n",
      "32643                Hero Passion Pro 100cc   39000.0      Delhi     22000.0   \n",
      "32644                  TVS Apache RTR 180cc   30000.0     Karnal      6639.0   \n",
      "32645              Bajaj Avenger Street 220   60000.0      Delhi     20373.0   \n",
      "32646             Hero Super Splendor 125cc   15600.0     Jaipur     84186.0   \n",
      "32647                    Bajaj Pulsar 150cc   22000.0       Pune     60857.0   \n",
      "\n",
      "             owner   age  power          brand  \n",
      "0      First Owner   3.0  110.0            TVS  \n",
      "1      First Owner   4.0  350.0  Royal Enfield  \n",
      "2      First Owner   8.0  675.0        Triumph  \n",
      "3      First Owner   4.0  180.0            TVS  \n",
      "4      First Owner   3.0  150.0         Yamaha  \n",
      "...            ...   ...    ...            ...  \n",
      "32643  First Owner   4.0  100.0           Hero  \n",
      "32644  First Owner   9.0  180.0            TVS  \n",
      "32645  First Owner   6.0  220.0          Bajaj  \n",
      "32646  First Owner  16.0  125.0           Hero  \n",
      "32647  First Owner  13.0  150.0          Bajaj  \n",
      "\n",
      "[32648 rows x 8 columns]\n",
      "the minimum price is price    4400.0\n",
      "dtype: float64\n"
     ]
    }
   ],
   "source": [
    "import pandas as pd\n",
    "df = pd.read_csv(\"Used_Bikes.csv\")\n",
    "print(df)\n",
    "#df[[\"price\"]].max()\n",
    "print(\"the minimum price is\",df[[\"price\"]].min())"
   ]
  },
  {
   "cell_type": "code",
   "execution_count": 189,
   "id": "1fb63e86",
   "metadata": {},
   "outputs": [
    {
     "data": {
      "text/plain": [
       "pandas.core.frame.DataFrame"
      ]
     },
     "execution_count": 189,
     "metadata": {},
     "output_type": "execute_result"
    }
   ],
   "source": [
    "##dataframe-->2d tabular data structure\n",
    "##series-->1d \n",
    "type(df)"
   ]
  },
  {
   "cell_type": "code",
   "execution_count": 190,
   "id": "dfef893d",
   "metadata": {},
   "outputs": [
    {
     "data": {
      "text/html": [
       "<div>\n",
       "<style scoped>\n",
       "    .dataframe tbody tr th:only-of-type {\n",
       "        vertical-align: middle;\n",
       "    }\n",
       "\n",
       "    .dataframe tbody tr th {\n",
       "        vertical-align: top;\n",
       "    }\n",
       "\n",
       "    .dataframe thead th {\n",
       "        text-align: right;\n",
       "    }\n",
       "</style>\n",
       "<table border=\"1\" class=\"dataframe\">\n",
       "  <thead>\n",
       "    <tr style=\"text-align: right;\">\n",
       "      <th></th>\n",
       "      <th>name</th>\n",
       "      <th>class</th>\n",
       "      <th>age</th>\n",
       "    </tr>\n",
       "  </thead>\n",
       "  <tbody>\n",
       "    <tr>\n",
       "      <th>0</th>\n",
       "      <td>a</td>\n",
       "      <td>1</td>\n",
       "      <td>10</td>\n",
       "    </tr>\n",
       "    <tr>\n",
       "      <th>1</th>\n",
       "      <td>b</td>\n",
       "      <td>2</td>\n",
       "      <td>15</td>\n",
       "    </tr>\n",
       "    <tr>\n",
       "      <th>2</th>\n",
       "      <td>c</td>\n",
       "      <td>3</td>\n",
       "      <td>20</td>\n",
       "    </tr>\n",
       "  </tbody>\n",
       "</table>\n",
       "</div>"
      ],
      "text/plain": [
       "  name  class  age\n",
       "0    a      1   10\n",
       "1    b      2   15\n",
       "2    c      3   20"
      ]
     },
     "execution_count": 190,
     "metadata": {},
     "output_type": "execute_result"
    }
   ],
   "source": [
    "##creating a dataframe\n",
    "dt={\n",
    "    \"name\" : [\"a\",\"b\",\"c\"],\n",
    "    \"class\" : [1,2,3],\n",
    "    \"age\" : [10,15,20]\n",
    "}\n",
    "df1=pd.DataFrame(dt)\n",
    "df1"
   ]
  },
  {
   "cell_type": "code",
   "execution_count": 191,
   "id": "551a36b9",
   "metadata": {},
   "outputs": [
    {
     "data": {
      "text/plain": [
       "city\n",
       "Delhi         7318\n",
       "Bangalore     2723\n",
       "Mumbai        2591\n",
       "Hyderabad     2160\n",
       "Pune          1724\n",
       "              ... \n",
       "Berhampore       1\n",
       "Silvasa          1\n",
       "Hospet           1\n",
       "Palai            1\n",
       "Sidhi            1\n",
       "Name: count, Length: 443, dtype: int64"
      ]
     },
     "execution_count": 191,
     "metadata": {},
     "output_type": "execute_result"
    }
   ],
   "source": [
    "import numpy as np\n",
    "arr7=np.arange(0,60).reshape((10,6))\n",
    "arr7\n",
    "df2=pd.DataFrame(arr7,columns=[\"a\",\"b\",\"c\",\"d\",\"e\",\"f\"]) #convert the 2d array into dataframe\n",
    "df2\n",
    "# #starting ke 5 rows dikeengi\n",
    "df2.tail() #last ki 5 rows dikengi\n",
    "df[\"age\"] #acces the particular column\n",
    "type(df[\"age\"] ) #return series\n",
    "df.dtypes #har column ka data type\n",
    "df.info #give information about data\n",
    "\n",
    "\n",
    "##columns is a function used to convert the columns into any name that we want\n",
    "\n",
    "##multiple columns ko fetch karna\n",
    "df[[\"age\",\"price\",\"bike_name\"]] \n",
    "\n",
    "\n",
    "##indexing--->\n",
    "df[0:10] #return rows\n",
    "df[0:10:2]\n",
    "\n",
    "##indexing -->loc,iloc\n",
    "##loc -> location based indexing\n",
    "#iloc--> integer based\n",
    "\n",
    "##iloc --[row start:end:skip,\"columns start:end:skip\"]\n",
    "df.iloc[0:10,0:5] ##0 to 10 rows and starting 0 to 5 columns\n",
    "\n",
    "#loc-->\n",
    "df.loc[0:10,[\"bike_name\",\"brand\"]]\n",
    "\n",
    "##predefine functions \n",
    "# df[[\"price\"]].max()\n",
    "# df[[\"price\"]].min()\n",
    "# df[[\"price\"]].mean()\n",
    "# df[[\"price\"]].sum()\n",
    "# df[[\"price\"]].std()\n",
    "\n",
    "df[\"city\"].unique()\n",
    "df[\"city\"].nunique() #unique value ka number return karega\n",
    "df[\"city\"].value_counts() #unique value aur uska number bhi return karega\n",
    "\n",
    "\n",
    "\n",
    "\n",
    "\n",
    "\n"
   ]
  },
  {
   "cell_type": "code",
   "execution_count": 192,
   "id": "99a7fb4f",
   "metadata": {},
   "outputs": [
    {
     "data": {
      "text/html": [
       "<div>\n",
       "<style scoped>\n",
       "    .dataframe tbody tr th:only-of-type {\n",
       "        vertical-align: middle;\n",
       "    }\n",
       "\n",
       "    .dataframe tbody tr th {\n",
       "        vertical-align: top;\n",
       "    }\n",
       "\n",
       "    .dataframe thead th {\n",
       "        text-align: right;\n",
       "    }\n",
       "</style>\n",
       "<table border=\"1\" class=\"dataframe\">\n",
       "  <thead>\n",
       "    <tr style=\"text-align: right;\">\n",
       "      <th></th>\n",
       "      <th>bike_name</th>\n",
       "      <th>price</th>\n",
       "      <th>city</th>\n",
       "      <th>kms_driven</th>\n",
       "      <th>owner</th>\n",
       "      <th>age</th>\n",
       "      <th>power</th>\n",
       "      <th>brand</th>\n",
       "    </tr>\n",
       "  </thead>\n",
       "  <tbody>\n",
       "    <tr>\n",
       "      <th>1</th>\n",
       "      <td>Royal Enfield Classic 350cc</td>\n",
       "      <td>119900.0</td>\n",
       "      <td>Delhi</td>\n",
       "      <td>11000.0</td>\n",
       "      <td>First Owner</td>\n",
       "      <td>4.0</td>\n",
       "      <td>350.0</td>\n",
       "      <td>Royal Enfield</td>\n",
       "    </tr>\n",
       "    <tr>\n",
       "      <th>2</th>\n",
       "      <td>Triumph Daytona 675R</td>\n",
       "      <td>600000.0</td>\n",
       "      <td>Delhi</td>\n",
       "      <td>110.0</td>\n",
       "      <td>First Owner</td>\n",
       "      <td>8.0</td>\n",
       "      <td>675.0</td>\n",
       "      <td>Triumph</td>\n",
       "    </tr>\n",
       "    <tr>\n",
       "      <th>5</th>\n",
       "      <td>Yamaha FZs 150cc</td>\n",
       "      <td>53499.0</td>\n",
       "      <td>Delhi</td>\n",
       "      <td>25000.0</td>\n",
       "      <td>First Owner</td>\n",
       "      <td>6.0</td>\n",
       "      <td>150.0</td>\n",
       "      <td>Yamaha</td>\n",
       "    </tr>\n",
       "    <tr>\n",
       "      <th>6</th>\n",
       "      <td>Honda CB Hornet 160R  ABS DLX</td>\n",
       "      <td>85000.0</td>\n",
       "      <td>Delhi</td>\n",
       "      <td>8200.0</td>\n",
       "      <td>First Owner</td>\n",
       "      <td>3.0</td>\n",
       "      <td>160.0</td>\n",
       "      <td>Honda</td>\n",
       "    </tr>\n",
       "    <tr>\n",
       "      <th>7</th>\n",
       "      <td>Hero Splendor Plus Self Alloy 100cc</td>\n",
       "      <td>45000.0</td>\n",
       "      <td>Delhi</td>\n",
       "      <td>12645.0</td>\n",
       "      <td>First Owner</td>\n",
       "      <td>3.0</td>\n",
       "      <td>100.0</td>\n",
       "      <td>Hero</td>\n",
       "    </tr>\n",
       "    <tr>\n",
       "      <th>...</th>\n",
       "      <td>...</td>\n",
       "      <td>...</td>\n",
       "      <td>...</td>\n",
       "      <td>...</td>\n",
       "      <td>...</td>\n",
       "      <td>...</td>\n",
       "      <td>...</td>\n",
       "      <td>...</td>\n",
       "    </tr>\n",
       "    <tr>\n",
       "      <th>32639</th>\n",
       "      <td>Royal Enfield Classic 350cc</td>\n",
       "      <td>95500.0</td>\n",
       "      <td>Delhi</td>\n",
       "      <td>18000.0</td>\n",
       "      <td>First Owner</td>\n",
       "      <td>8.0</td>\n",
       "      <td>350.0</td>\n",
       "      <td>Royal Enfield</td>\n",
       "    </tr>\n",
       "    <tr>\n",
       "      <th>32640</th>\n",
       "      <td>Hero Passion Pro 100cc</td>\n",
       "      <td>32000.0</td>\n",
       "      <td>Delhi</td>\n",
       "      <td>12000.0</td>\n",
       "      <td>First Owner</td>\n",
       "      <td>6.0</td>\n",
       "      <td>100.0</td>\n",
       "      <td>Hero</td>\n",
       "    </tr>\n",
       "    <tr>\n",
       "      <th>32641</th>\n",
       "      <td>Bajaj Avenger 220cc</td>\n",
       "      <td>41000.0</td>\n",
       "      <td>Delhi</td>\n",
       "      <td>20245.0</td>\n",
       "      <td>Second Owner</td>\n",
       "      <td>11.0</td>\n",
       "      <td>220.0</td>\n",
       "      <td>Bajaj</td>\n",
       "    </tr>\n",
       "    <tr>\n",
       "      <th>32643</th>\n",
       "      <td>Hero Passion Pro 100cc</td>\n",
       "      <td>39000.0</td>\n",
       "      <td>Delhi</td>\n",
       "      <td>22000.0</td>\n",
       "      <td>First Owner</td>\n",
       "      <td>4.0</td>\n",
       "      <td>100.0</td>\n",
       "      <td>Hero</td>\n",
       "    </tr>\n",
       "    <tr>\n",
       "      <th>32645</th>\n",
       "      <td>Bajaj Avenger Street 220</td>\n",
       "      <td>60000.0</td>\n",
       "      <td>Delhi</td>\n",
       "      <td>20373.0</td>\n",
       "      <td>First Owner</td>\n",
       "      <td>6.0</td>\n",
       "      <td>220.0</td>\n",
       "      <td>Bajaj</td>\n",
       "    </tr>\n",
       "  </tbody>\n",
       "</table>\n",
       "<p>7318 rows × 8 columns</p>\n",
       "</div>"
      ],
      "text/plain": [
       "                                 bike_name     price   city  kms_driven  \\\n",
       "1              Royal Enfield Classic 350cc  119900.0  Delhi     11000.0   \n",
       "2                     Triumph Daytona 675R  600000.0  Delhi       110.0   \n",
       "5                         Yamaha FZs 150cc   53499.0  Delhi     25000.0   \n",
       "6            Honda CB Hornet 160R  ABS DLX   85000.0  Delhi      8200.0   \n",
       "7      Hero Splendor Plus Self Alloy 100cc   45000.0  Delhi     12645.0   \n",
       "...                                    ...       ...    ...         ...   \n",
       "32639          Royal Enfield Classic 350cc   95500.0  Delhi     18000.0   \n",
       "32640               Hero Passion Pro 100cc   32000.0  Delhi     12000.0   \n",
       "32641                  Bajaj Avenger 220cc   41000.0  Delhi     20245.0   \n",
       "32643               Hero Passion Pro 100cc   39000.0  Delhi     22000.0   \n",
       "32645             Bajaj Avenger Street 220   60000.0  Delhi     20373.0   \n",
       "\n",
       "              owner   age  power          brand  \n",
       "1       First Owner   4.0  350.0  Royal Enfield  \n",
       "2       First Owner   8.0  675.0        Triumph  \n",
       "5       First Owner   6.0  150.0         Yamaha  \n",
       "6       First Owner   3.0  160.0          Honda  \n",
       "7       First Owner   3.0  100.0           Hero  \n",
       "...             ...   ...    ...            ...  \n",
       "32639   First Owner   8.0  350.0  Royal Enfield  \n",
       "32640   First Owner   6.0  100.0           Hero  \n",
       "32641  Second Owner  11.0  220.0          Bajaj  \n",
       "32643   First Owner   4.0  100.0           Hero  \n",
       "32645   First Owner   6.0  220.0          Bajaj  \n",
       "\n",
       "[7318 rows x 8 columns]"
      ]
     },
     "execution_count": 192,
     "metadata": {},
     "output_type": "execute_result"
    }
   ],
   "source": [
    "df.head(10) #starting 10 values\n",
    "\n",
    "df.columns #dataset ke sare naam return karega\n",
    "df[df[\"owner\"] == \"Fourth Owner Or More\"]\n",
    "df[df[\"city\"] == \"Delhi\"]\n",
    "# df[\"owner\"] == \"First Owner\" #return true"
   ]
  },
  {
   "cell_type": "code",
   "execution_count": 193,
   "id": "0b6aace0",
   "metadata": {},
   "outputs": [
    {
     "data": {
      "text/plain": [
       "array([[ 0,  1,  2,  3,  4],\n",
       "       [ 5,  6,  7,  8,  9],\n",
       "       [10, 11, 12, 13, 14],\n",
       "       [15, 16, 17, 18, 19],\n",
       "       [20, 21, 22, 23, 24],\n",
       "       [25, 26, 27, 28, 29],\n",
       "       [30, 31, 32, 33, 34],\n",
       "       [35, 36, 37, 38, 39],\n",
       "       [40, 41, 42, 43, 44],\n",
       "       [45, 46, 47, 48, 49],\n",
       "       [50, 51, 52, 53, 54],\n",
       "       [55, 56, 57, 58, 59]])"
      ]
     },
     "execution_count": 193,
     "metadata": {},
     "output_type": "execute_result"
    }
   ],
   "source": [
    "##creating a 2d array in numpy\n",
    "import numpy as np\n",
    "arr8=np.arange(60).reshape(12,5)\n",
    "arr8"
   ]
  },
  {
   "cell_type": "code",
   "execution_count": 194,
   "id": "64d537f6",
   "metadata": {},
   "outputs": [],
   "source": [
    "# ##data filter\n",
    "# delhi=df[df[\"city\"]==\"Delhi\"]\n",
    "# ##delhi --price 60000\n",
    "# delhi_under"
   ]
  },
  {
   "cell_type": "code",
   "execution_count": 195,
   "id": "bdd2d502",
   "metadata": {},
   "outputs": [],
   "source": [
    "import numpy as np"
   ]
  },
  {
   "cell_type": "code",
   "execution_count": 196,
   "id": "3c047417",
   "metadata": {},
   "outputs": [],
   "source": [
    "# import pandas as pd\n",
    "# ##sort values\n",
    "# df.sort_values(by=\"price\",ascending=True)\n",
    "# df.sort_index()\n",
    "\n",
    "# #nan values\n",
    "# dt={\n",
    "#     \"name\" : [\"a\",\"b\",\"c\",np.nan],\n",
    "#     \"class\" : [1,2,3],\n",
    "#     \"age\" : [10,15,20,np.nan]\n",
    "# }\n",
    "# df1=pd.DataFrame(dt)\n",
    "# df1\n"
   ]
  },
  {
   "cell_type": "code",
   "execution_count": 197,
   "id": "386bb45d",
   "metadata": {},
   "outputs": [],
   "source": [
    "#nan values\n",
    "# dt={\n",
    "#     \"name\" : [\"a\",\"b\",\"c\",np.nan],\n",
    "#     \"class\" : [1,2,3,4],\n",
    "#     \"age\" : [10,15,20,np.nan]\n",
    "# }\n",
    "# df1=pd.DataFrame(dt)\n",
    "# df1\n",
    "# df1.isnull()\n",
    "# df1.isnull().sum()\n",
    "\n",
    "#df1.dropna()\n",
    "# df1.dropna(axis=1) ##axis is for column\n",
    "# df1.dropna(axis=0)##to drop entire null value row"
   ]
  },
  {
   "cell_type": "code",
   "execution_count": 198,
   "id": "523eef83",
   "metadata": {},
   "outputs": [],
   "source": [
    "##fill nan values --constant,mean,median\n",
    "\n",
    "# df1.fillna(0) #fillna nan value ko delete krne ki jagah mai use kisi  bhi number se fill kr skte hai\n",
    "\n",
    "\n",
    "# df1.fillna(df1.mean())\n",
    "# df1.fillna(df1.mode())\n",
    "\n",
    "\n",
    "# df.loc[0:10,[\"price\"]]=np.nan"
   ]
  },
  {
   "cell_type": "code",
   "execution_count": null,
   "id": "f30e72fa",
   "metadata": {},
   "outputs": [
    {
     "data": {
      "text/html": [
       "<div>\n",
       "<style scoped>\n",
       "    .dataframe tbody tr th:only-of-type {\n",
       "        vertical-align: middle;\n",
       "    }\n",
       "\n",
       "    .dataframe tbody tr th {\n",
       "        vertical-align: top;\n",
       "    }\n",
       "\n",
       "    .dataframe thead th {\n",
       "        text-align: right;\n",
       "    }\n",
       "</style>\n",
       "<table border=\"1\" class=\"dataframe\">\n",
       "  <thead>\n",
       "    <tr style=\"text-align: right;\">\n",
       "      <th></th>\n",
       "      <th>max_age</th>\n",
       "      <th>min_age</th>\n",
       "      <th>mean_age</th>\n",
       "    </tr>\n",
       "    <tr>\n",
       "      <th>owner</th>\n",
       "      <th></th>\n",
       "      <th></th>\n",
       "      <th></th>\n",
       "    </tr>\n",
       "  </thead>\n",
       "  <tbody>\n",
       "    <tr>\n",
       "      <th>First Owner</th>\n",
       "      <td>43.0</td>\n",
       "      <td>1.0</td>\n",
       "      <td>7.684855</td>\n",
       "    </tr>\n",
       "    <tr>\n",
       "      <th>Fourth Owner Or More</th>\n",
       "      <td>37.0</td>\n",
       "      <td>4.0</td>\n",
       "      <td>15.250000</td>\n",
       "    </tr>\n",
       "    <tr>\n",
       "      <th>Second Owner</th>\n",
       "      <td>63.0</td>\n",
       "      <td>2.0</td>\n",
       "      <td>12.129095</td>\n",
       "    </tr>\n",
       "    <tr>\n",
       "      <th>Third Owner</th>\n",
       "      <td>43.0</td>\n",
       "      <td>4.0</td>\n",
       "      <td>11.175926</td>\n",
       "    </tr>\n",
       "  </tbody>\n",
       "</table>\n",
       "</div>"
      ],
      "text/plain": [
       "                      max_age  min_age   mean_age\n",
       "owner                                            \n",
       "First Owner              43.0      1.0   7.684855\n",
       "Fourth Owner Or More     37.0      4.0  15.250000\n",
       "Second Owner             63.0      2.0  12.129095\n",
       "Third Owner              43.0      4.0  11.175926"
      ]
     },
     "execution_count": 212,
     "metadata": {},
     "output_type": "execute_result"
    }
   ],
   "source": [
    "# df.loc[0:10,[\"price\"]]=np.nan #create a nanvalue\n",
    "# df\n",
    "\n",
    "# df.fillna(df[\"price\"].mean())\n",
    "# df.fillna(df[\"price\"].median())\n",
    "\n",
    "## if we want to add in price column::: then,\n",
    "\n",
    "df[\"price\"] + 50000\n",
    "df[\"increased_price\"] = df[\"price\"] + 5000 #incresed column naya bana aur usme price 5000 add ho gyi\n",
    "df\n",
    "\n",
    "##drop column\n",
    "df.drop(\"increased_price\",axis=1) \n",
    "\n",
    "df.rename(columns={\"price\":\"new_price\"})\n",
    "\n",
    "df.rename(columns={\"bike_name\":\"new bike_name\"}) #rename\n",
    "\n",
    "\n",
    "##groupby--\n",
    "owner_group= df.groupby(\"owner\")\n",
    "owner_group\n",
    "\n",
    "# df[\"owner\"].value_counts()\n",
    "owner_group.get_group(\"First Owner\") #grouping a first ownwer\n",
    "\n",
    "\n",
    "##\n",
    "df[\"price\"].max()\n",
    "##aggregate function\n",
    "owner_group[\"age\"].agg(max_age = \"max\",min_age = \"min\",mean_age=\"mean\")\n",
    "\n",
    "\n",
    "#pandas khatam\n",
    "\n",
    "\n",
    "\n",
    "\n",
    "\n"
   ]
  },
  {
   "cell_type": "code",
   "execution_count": 213,
   "id": "ca930dc2",
   "metadata": {},
   "outputs": [],
   "source": [
    "import matplotlib as mat"
   ]
  },
  {
   "cell_type": "code",
   "execution_count": null,
   "id": "d97702b2",
   "metadata": {},
   "outputs": [],
   "source": []
  }
 ],
 "metadata": {
  "kernelspec": {
   "display_name": ".venv",
   "language": "python",
   "name": "python3"
  },
  "language_info": {
   "codemirror_mode": {
    "name": "ipython",
    "version": 3
   },
   "file_extension": ".py",
   "mimetype": "text/x-python",
   "name": "python",
   "nbconvert_exporter": "python",
   "pygments_lexer": "ipython3",
   "version": "3.12.3"
  }
 },
 "nbformat": 4,
 "nbformat_minor": 5
}
