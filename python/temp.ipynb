{
 "cells": [
  {
   "cell_type": "code",
   "execution_count": null,
   "id": "ab86d0c2",
   "metadata": {},
   "outputs": [],
   "source": [
    "print(\"hello\")"
   ]
  }
 ],
 "metadata": {
  "language_info": {
   "name": "python"
  }
 },
 "nbformat": 4,
 "nbformat_minor": 5
}
